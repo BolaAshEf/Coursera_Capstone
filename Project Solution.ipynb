{
 "cells": [
  {
   "cell_type": "markdown",
   "metadata": {},
   "source": [
    "# Solving Steps"
   ]
  },
  {
   "cell_type": "markdown",
   "metadata": {},
   "source": [
    "### We will use Foursquare API only to achieve our goal.\n",
    "### Steps:-\n",
    "#### 1- We will explore all venues in **New York City**. \n",
    "#### 2- For each restaurant we will check the venues around it in a redius of 200 meters. \n",
    "#### 3- For each restaurant we will get its rating. \n",
    "#### 4- Sort the data we get in a histogram graph its X-Axis descipes (the categories of venues around restaurants) and  its Y-Axis descripes the number of these venues categories around the restaurants.\n",
    "#### 5- We will use restaurants ratings we get in our histogram bars colors. \n",
    "\n",
    "#### Finally we will make a ratio(based in the data we get) for each neighborhood that decripes your chance to get high rating if you open your restaurant in this neighborhood, Then we will use this ratio in a map."
   ]
  }
 ],
 "metadata": {
  "kernelspec": {
   "display_name": "Python 3",
   "language": "python",
   "name": "python3"
  },
  "language_info": {
   "codemirror_mode": {
    "name": "ipython",
    "version": 3
   },
   "file_extension": ".py",
   "mimetype": "text/x-python",
   "name": "python",
   "nbconvert_exporter": "python",
   "pygments_lexer": "ipython3",
   "version": "3.7.8"
  }
 },
 "nbformat": 4,
 "nbformat_minor": 4
}
