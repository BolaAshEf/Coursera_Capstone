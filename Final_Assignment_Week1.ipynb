{
 "cells": [
  {
   "cell_type": "markdown",
   "metadata": {},
   "source": [
    "# Capstone Project - Final Assignment(Week1)"
   ]
  },
  {
   "cell_type": "markdown",
   "metadata": {},
   "source": [
    "## Battle of the Neighbourhoods: Where to open your business office?"
   ]
  },
  {
   "cell_type": "markdown",
   "metadata": {},
   "source": [
    "---"
   ]
  },
  {
   "cell_type": "markdown",
   "metadata": {},
   "source": [
    "## Introduction: Problem"
   ]
  },
  {
   "cell_type": "markdown",
   "metadata": {},
   "source": [
    "How could you choose where to open your business office? \n",
    "If you want to open an office in the city of **Canada - Toronto**, you must carfully choose the right **Borough** and **Neighbourhood**.\n",
    "So, what my choice should depend on?! \n",
    "- The **Borough** must have a lot of **Hotels** in it for your clients. \n",
    "- The **Neighbourhoods** in the **Borough** must be as **safe** as possible. "
   ]
  },
  {
   "cell_type": "markdown",
   "metadata": {},
   "source": [
    "## The Data I Will Use"
   ]
  },
  {
   "cell_type": "markdown",
   "metadata": {},
   "source": [
    "### In this project I will use 2 datasets(CSV Files) and 1 Geojson file, also I will use Foursquare API:- \n",
    "\n",
    "- __Kaggle:__ I will use this [Dataset](https://www.kaggle.com/kapastor/toronto-police-data-crime-rates-by-neighbourhood) that descripes the crimes in Toronto from 2014 to 2019, with deleting unnecessary columns.\n",
    "\n",
    "- __Wikipedia:__ I will use this [Dataset](https://en.wikipedia.org/wiki/List_of_neighbourhoods_in_Toronto) because the neighbourhoods names in Kaggle dataset is unclear, I will use this for fixing it. \n",
    "\n",
    "- __GitHub:__ I will use this [GeoJson File](http://adamw523.com/toronto-geojson/) for get the geographical boundaries of each neighbourhood for coming maps. \n",
    "\n",
    "- __Foursquare:__ It will be used for exploring Toronto and venues within each neighbourhood.\n"
   ]
  },
  {
   "cell_type": "code",
   "execution_count": null,
   "metadata": {},
   "outputs": [],
   "source": []
  }
 ],
 "metadata": {
  "kernelspec": {
   "display_name": "Python",
   "language": "python",
   "name": "conda-env-python-py"
  },
  "language_info": {
   "codemirror_mode": {
    "name": "ipython",
    "version": 3
   },
   "file_extension": ".py",
   "mimetype": "text/x-python",
   "name": "python",
   "nbconvert_exporter": "python",
   "pygments_lexer": "ipython3",
   "version": "3.6.11"
  }
 },
 "nbformat": 4,
 "nbformat_minor": 4
}
